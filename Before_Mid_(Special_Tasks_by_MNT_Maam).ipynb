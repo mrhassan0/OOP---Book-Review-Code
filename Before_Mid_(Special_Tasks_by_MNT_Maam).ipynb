{
  "nbformat": 4,
  "nbformat_minor": 0,
  "metadata": {
    "colab": {
      "provenance": [],
      "authorship_tag": "ABX9TyP5DTu2gQB/jPHPBScHF0kH",
      "include_colab_link": true
    },
    "kernelspec": {
      "name": "python3",
      "display_name": "Python 3"
    },
    "language_info": {
      "name": "python"
    }
  },
  "cells": [
    {
      "cell_type": "markdown",
      "metadata": {
        "id": "view-in-github",
        "colab_type": "text"
      },
      "source": [
        "<a href=\"https://colab.research.google.com/github/mrhassanbracu/OOP---Book-Review-Code/blob/main/Before_Mid_(Special_Tasks_by_MNT_Maam).ipynb\" target=\"_parent\"><img src=\"https://colab.research.google.com/assets/colab-badge.svg\" alt=\"Open In Colab\"/></a>"
      ]
    },
    {
      "cell_type": "markdown",
      "source": [
        "**Task 04 - Before Mid (Special Task by MNT Maam)**"
      ],
      "metadata": {
        "id": "y_4UtLUdJuJB"
      }
    },
    {
      "cell_type": "markdown",
      "source": [
        "**Book Review Code Using Python-OOP**"
      ],
      "metadata": {
        "id": "p9RdEDxDKWGv"
      }
    },
    {
      "cell_type": "code",
      "execution_count": 1,
      "metadata": {
        "colab": {
          "base_uri": "https://localhost:8080/"
        },
        "id": "F-LBWJj-JtYA",
        "outputId": "bd3cc0bd-aab6-449a-db76-dae612b1fa0b"
      },
      "outputs": [
        {
          "output_type": "stream",
          "name": "stdout",
          "text": [
            "-------------------------------\n",
            "Highest rated books:\n",
            "Sapiens: A Brief History of Humankind (2011) by Yuval Noah Harari\n",
            "Harry Potter and the Goblet of Fire (2000) by J. K. Rowling\n",
            "-------------------------------\n",
            "-------------------------------\n",
            "Highest rated books:\n",
            "Sapiens: A Brief History of Humankind (2011) by Yuval Noah Harari\n",
            "Harry Potter and the Goblet of Fire (2000) by J. K. Rowling\n",
            "If Tomorrow Comes (1985) by Sidney Sheldon\n",
            "-------------------------------\n"
          ]
        }
      ],
      "source": [
        "class Book:\n",
        "  def __init__(self,*a):\n",
        "    self.st=f\"{a[0]} ({a[1]}) by {a[2]}\"\n",
        "\n",
        "class Reader:\n",
        "  def __init__(self,n):\n",
        "    self.rd={}\n",
        "  \n",
        "  def add_review(self,ml,rate,com):\n",
        "    self.rd[ml.st]=rate\n",
        "    \n",
        "\n",
        "class BookDirectory:\n",
        "  def __init__(self):\n",
        "    self.high={}\n",
        "    self.value=0\n",
        "  \n",
        "  def add_book(self,mlb):\n",
        "    pass\n",
        "\n",
        "  def add_reader(self,mlr):\n",
        "    for k,v in mlr.rd.items():\n",
        "      self.value=v\n",
        "      if k not in self.high.keys():\n",
        "        self.high[k]=self.value \n",
        "      else:\n",
        "        self.high[k]=self.high[k]+self.value\n",
        "\n",
        "  def get_highest_rated_books(self,n):\n",
        "    l2=[]\n",
        "    for y in self.high.values():\n",
        "      l2.append(y)\n",
        "    l2.sort(reverse=True)\n",
        "    l3=l2[0:n:]\n",
        "    key=[]\n",
        "    for item in l3: \n",
        "      for p,q in self.high.items():\n",
        "        if item==q:\n",
        "          key.append(p)\n",
        "    return key\n",
        "\n",
        "\n",
        "Book1 = Book(\"Harry Potter and the Goblet of Fire\", 2000, \"J. K. Rowling\")\n",
        "Book2 = Book(\"If Tomorrow Comes\", 1985, \"Sidney Sheldon\")\n",
        "Book3 = Book(\"Diary of a Wimpy Kid\", 2007, \"Jeff Kinney\")\n",
        "Book4 = Book(\"Sapiens: A Brief History of Humankind\", 2011, \"Yuval Noah Harari\")\n",
        "\n",
        "\n",
        "directory = BookDirectory()\n",
        "directory.add_book(Book1)\n",
        "directory.add_book(Book2)\n",
        "directory.add_book(Book3)\n",
        "directory.add_book(Book4)\n",
        "\n",
        "\n",
        "Reader1 = Reader(\"Bob\")\n",
        "Reader1.add_review(Book1, 5, \"The best book I ever read!\")\n",
        "Reader1.add_review(Book2, 4, \"One of the best thrillers\")\n",
        "Reader2 = Reader(\"Carol\")\n",
        "Reader2.add_review(Book1, 4, \"Love a good magical story!\")\n",
        "Reader2.add_review(Book3, 3, \"I somewhat liked the book but the genre is not my type.\")\n",
        "Reader2.add_review(Book4, 5, \"Beautifully written.\")\n",
        "Reader3 = Reader(\"Harry\")\n",
        "Reader3.add_review(Book4, 5, \"What a fantastic book!\")\n",
        "\n",
        "\n",
        "directory.add_reader(Reader1)\n",
        "directory.add_reader(Reader2)\n",
        "directory.add_reader(Reader3)\n",
        "highest_rated_books = directory.get_highest_rated_books(2)\n",
        "\n",
        "\n",
        "print('-------------------------------')\n",
        "print(\"Highest rated books:\")\n",
        "for book in highest_rated_books:\n",
        "    print(book)\n",
        "print('-------------------------------')\n",
        "\n",
        "\n",
        "highest_rated_books = directory.get_highest_rated_books(3)\n",
        "\n",
        "\n",
        "print('-------------------------------')\n",
        "print(\"Highest rated books:\")\n",
        "for book in highest_rated_books:\n",
        "    print(book)\n",
        "print('-------------------------------')"
      ]
    }
  ]
}